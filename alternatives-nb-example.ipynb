{
 "cells": [
  {
   "cell_type": "markdown",
   "id": "cdab24c6",
   "metadata": {},
   "source": [
    "# Example _alternatives-nb_ Notebook\n",
    "\n",
    "**This is an simplified example notebook to concisely illustrate alternative-nb notebook features.**"
   ]
  },
  {
   "cell_type": "code",
   "execution_count": 4,
   "id": "d980a077",
   "metadata": {},
   "outputs": [],
   "source": [
    "import pandas as pd\n",
    "import altair as alt\n",
    "from vega_datasets import data"
   ]
  },
  {
   "cell_type": "markdown",
   "id": "5ac55252",
   "metadata": {},
   "source": [
    "Import movies data set and display a histogram. Example from: https://altair-viz.github.io/gallery/simple_histogram.html."
   ]
  },
  {
   "cell_type": "code",
   "execution_count": 19,
   "id": "0c9d7368",
   "metadata": {},
   "outputs": [
    {
     "data": {
      "text/html": [
       "<div>\n",
       "<style scoped>\n",
       "    .dataframe tbody tr th:only-of-type {\n",
       "        vertical-align: middle;\n",
       "    }\n",
       "\n",
       "    .dataframe tbody tr th {\n",
       "        vertical-align: top;\n",
       "    }\n",
       "\n",
       "    .dataframe thead th {\n",
       "        text-align: right;\n",
       "    }\n",
       "</style>\n",
       "<table border=\"1\" class=\"dataframe\">\n",
       "  <thead>\n",
       "    <tr style=\"text-align: right;\">\n",
       "      <th></th>\n",
       "      <th>Title</th>\n",
       "      <th>US_Gross</th>\n",
       "      <th>Worldwide_Gross</th>\n",
       "      <th>US_DVD_Sales</th>\n",
       "      <th>Production_Budget</th>\n",
       "      <th>Release_Date</th>\n",
       "      <th>MPAA_Rating</th>\n",
       "      <th>Running_Time_min</th>\n",
       "      <th>Distributor</th>\n",
       "      <th>Source</th>\n",
       "      <th>Major_Genre</th>\n",
       "      <th>Creative_Type</th>\n",
       "      <th>Director</th>\n",
       "      <th>Rotten_Tomatoes_Rating</th>\n",
       "      <th>IMDB_Rating</th>\n",
       "      <th>IMDB_Votes</th>\n",
       "    </tr>\n",
       "  </thead>\n",
       "  <tbody>\n",
       "    <tr>\n",
       "      <th>0</th>\n",
       "      <td>The Land Girls</td>\n",
       "      <td>146083.0</td>\n",
       "      <td>146083.0</td>\n",
       "      <td>NaN</td>\n",
       "      <td>8000000.0</td>\n",
       "      <td>Jun 12 1998</td>\n",
       "      <td>R</td>\n",
       "      <td>NaN</td>\n",
       "      <td>Gramercy</td>\n",
       "      <td>None</td>\n",
       "      <td>None</td>\n",
       "      <td>None</td>\n",
       "      <td>None</td>\n",
       "      <td>NaN</td>\n",
       "      <td>6.1</td>\n",
       "      <td>1071.0</td>\n",
       "    </tr>\n",
       "    <tr>\n",
       "      <th>1</th>\n",
       "      <td>First Love, Last Rites</td>\n",
       "      <td>10876.0</td>\n",
       "      <td>10876.0</td>\n",
       "      <td>NaN</td>\n",
       "      <td>300000.0</td>\n",
       "      <td>Aug 07 1998</td>\n",
       "      <td>R</td>\n",
       "      <td>NaN</td>\n",
       "      <td>Strand</td>\n",
       "      <td>None</td>\n",
       "      <td>Drama</td>\n",
       "      <td>None</td>\n",
       "      <td>None</td>\n",
       "      <td>NaN</td>\n",
       "      <td>6.9</td>\n",
       "      <td>207.0</td>\n",
       "    </tr>\n",
       "    <tr>\n",
       "      <th>2</th>\n",
       "      <td>I Married a Strange Person</td>\n",
       "      <td>203134.0</td>\n",
       "      <td>203134.0</td>\n",
       "      <td>NaN</td>\n",
       "      <td>250000.0</td>\n",
       "      <td>Aug 28 1998</td>\n",
       "      <td>None</td>\n",
       "      <td>NaN</td>\n",
       "      <td>Lionsgate</td>\n",
       "      <td>None</td>\n",
       "      <td>Comedy</td>\n",
       "      <td>None</td>\n",
       "      <td>None</td>\n",
       "      <td>NaN</td>\n",
       "      <td>6.8</td>\n",
       "      <td>865.0</td>\n",
       "    </tr>\n",
       "    <tr>\n",
       "      <th>3</th>\n",
       "      <td>Let's Talk About Sex</td>\n",
       "      <td>373615.0</td>\n",
       "      <td>373615.0</td>\n",
       "      <td>NaN</td>\n",
       "      <td>300000.0</td>\n",
       "      <td>Sep 11 1998</td>\n",
       "      <td>None</td>\n",
       "      <td>NaN</td>\n",
       "      <td>Fine Line</td>\n",
       "      <td>None</td>\n",
       "      <td>Comedy</td>\n",
       "      <td>None</td>\n",
       "      <td>None</td>\n",
       "      <td>13.0</td>\n",
       "      <td>NaN</td>\n",
       "      <td>NaN</td>\n",
       "    </tr>\n",
       "    <tr>\n",
       "      <th>4</th>\n",
       "      <td>Slam</td>\n",
       "      <td>1009819.0</td>\n",
       "      <td>1087521.0</td>\n",
       "      <td>NaN</td>\n",
       "      <td>1000000.0</td>\n",
       "      <td>Oct 09 1998</td>\n",
       "      <td>R</td>\n",
       "      <td>NaN</td>\n",
       "      <td>Trimark</td>\n",
       "      <td>Original Screenplay</td>\n",
       "      <td>Drama</td>\n",
       "      <td>Contemporary Fiction</td>\n",
       "      <td>None</td>\n",
       "      <td>62.0</td>\n",
       "      <td>3.4</td>\n",
       "      <td>165.0</td>\n",
       "    </tr>\n",
       "  </tbody>\n",
       "</table>\n",
       "</div>"
      ],
      "text/plain": [
       "                        Title   US_Gross  Worldwide_Gross  US_DVD_Sales  \\\n",
       "0              The Land Girls   146083.0         146083.0           NaN   \n",
       "1      First Love, Last Rites    10876.0          10876.0           NaN   \n",
       "2  I Married a Strange Person   203134.0         203134.0           NaN   \n",
       "3        Let's Talk About Sex   373615.0         373615.0           NaN   \n",
       "4                        Slam  1009819.0        1087521.0           NaN   \n",
       "\n",
       "   Production_Budget Release_Date MPAA_Rating  Running_Time_min Distributor  \\\n",
       "0          8000000.0  Jun 12 1998           R               NaN    Gramercy   \n",
       "1           300000.0  Aug 07 1998           R               NaN      Strand   \n",
       "2           250000.0  Aug 28 1998        None               NaN   Lionsgate   \n",
       "3           300000.0  Sep 11 1998        None               NaN   Fine Line   \n",
       "4          1000000.0  Oct 09 1998           R               NaN     Trimark   \n",
       "\n",
       "                Source Major_Genre         Creative_Type Director  \\\n",
       "0                 None        None                  None     None   \n",
       "1                 None       Drama                  None     None   \n",
       "2                 None      Comedy                  None     None   \n",
       "3                 None      Comedy                  None     None   \n",
       "4  Original Screenplay       Drama  Contemporary Fiction     None   \n",
       "\n",
       "   Rotten_Tomatoes_Rating  IMDB_Rating  IMDB_Votes  \n",
       "0                     NaN          6.1      1071.0  \n",
       "1                     NaN          6.9       207.0  \n",
       "2                     NaN          6.8       865.0  \n",
       "3                    13.0          NaN         NaN  \n",
       "4                    62.0          3.4       165.0  "
      ]
     },
     "execution_count": 19,
     "metadata": {},
     "output_type": "execute_result"
    }
   ],
   "source": [
    "movies = data.movies.url\n",
    "movies_df = pd.read_json(movies)\n",
    "movies_df.head()"
   ]
  },
  {
   "cell_type": "markdown",
   "id": "4b4ac929",
   "metadata": {
    "alternativeSetID": "cba8468a-b696-4a5a-98fd-c391f363e689",
    "alternativeSetTitle": true,
    "deletable": false
   },
   "source": [
    "## Predicting on MPAA Rating vs. RT Rating"
   ]
  },
  {
   "cell_type": "markdown",
   "id": "9d63a471",
   "metadata": {
    "alternativeID": "810a7513-8e80-4fe6-b466-01a87f3c63ea",
    "alternativeTitle": true,
    "deletable": false
   },
   "source": [
    "### Alternative 1 - Predicting on MPAA Rating"
   ]
  },
  {
   "cell_type": "markdown",
   "id": "b9a941cb",
   "metadata": {
    "alternativeID": "810a7513-8e80-4fe6-b466-01a87f3c63ea"
   },
   "source": []
  },
  {
   "cell_type": "code",
   "execution_count": null,
   "id": "912a2545",
   "metadata": {
    "alternativeID": "810a7513-8e80-4fe6-b466-01a87f3c63ea"
   },
   "outputs": [],
   "source": [
    "from sklearn.model import linear_model"
   ]
  },
  {
   "cell_type": "markdown",
   "id": "51d0edb3",
   "metadata": {
    "alternativeID": "df45d994-2b03-4bba-b211-1b8a00d2f3cc",
    "alternativeTitle": true,
    "deletable": false
   },
   "source": [
    "### Alternative 2 - Predicting on Rotten Tomatoes Rating"
   ]
  },
  {
   "cell_type": "markdown",
   "id": "f90e7da7",
   "metadata": {
    "alternativeID": "df45d994-2b03-4bba-b211-1b8a00d2f3cc"
   },
   "source": []
  },
  {
   "cell_type": "markdown",
   "id": "e24ae7e6",
   "metadata": {},
   "source": []
  }
 ],
 "metadata": {
  "kernelspec": {
   "display_name": "Python 3 (ipykernel)",
   "language": "python",
   "name": "python3"
  },
  "language_info": {
   "codemirror_mode": {
    "name": "ipython",
    "version": 3
   },
   "file_extension": ".py",
   "mimetype": "text/x-python",
   "name": "python",
   "nbconvert_exporter": "python",
   "pygments_lexer": "ipython3",
   "version": "3.9.6"
  },
  "lit": {
   "alternatives": [
    {
     "alternativeChildren": [],
     "alternativeParent": "",
     "alternativeReasoning": {
      "alternativesTrigger": [
       "Systematicity"
      ],
      "decisionRationale": [
       "Data",
       "Prior work"
      ]
     },
     "alternativeSet": "cba8468a-b696-4a5a-98fd-c391f363e689",
     "alternativeStatus": "Choice",
     "alternativeTitle": "Untitled Alternative 1",
     "id": "810a7513-8e80-4fe6-b466-01a87f3c63ea"
    },
    {
     "alternativeChildren": [],
     "alternativeParent": "",
     "alternativeReasoning": {
      "alternativesTrigger": [
       "Systematicity"
      ],
      "decisionRationale": [
       "Expertise"
      ]
     },
     "alternativeSet": "cba8468a-b696-4a5a-98fd-c391f363e689",
     "alternativeStatus": "Archived",
     "alternativeTitle": "Untitled Alternative 2",
     "id": "df45d994-2b03-4bba-b211-1b8a00d2f3cc"
    }
   ]
  }
 },
 "nbformat": 4,
 "nbformat_minor": 5
}
