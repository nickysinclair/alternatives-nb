{
 "cells": [
  {
   "cell_type": "markdown",
   "id": "4f388020",
   "metadata": {},
   "source": []
  },
  {
   "cell_type": "markdown",
   "id": "4b4ac929",
   "metadata": {
    "alternativeSetID": "cba8468a-b696-4a5a-98fd-c391f363e689",
    "alternativeSetTitle": true,
    "deletable": false
   },
   "source": [
    "## Alternative Set"
   ]
  },
  {
   "cell_type": "markdown",
   "id": "9d63a471",
   "metadata": {
    "alternativeID": "810a7513-8e80-4fe6-b466-01a87f3c63ea",
    "alternativeTitle": true,
    "deletable": false
   },
   "source": [
    "### Untitled Alternative 1"
   ]
  },
  {
   "cell_type": "markdown",
   "id": "f34cb7c1",
   "metadata": {
    "alternativeID": "810a7513-8e80-4fe6-b466-01a87f3c63ea"
   },
   "source": []
  },
  {
   "cell_type": "markdown",
   "id": "d6df4d8e",
   "metadata": {
    "alternativeID": "810a7513-8e80-4fe6-b466-01a87f3c63ea"
   },
   "source": []
  },
  {
   "cell_type": "markdown",
   "id": "51d0edb3",
   "metadata": {
    "alternativeID": "df45d994-2b03-4bba-b211-1b8a00d2f3cc",
    "alternativeTitle": true,
    "deletable": false
   },
   "source": [
    "### Untitled Alternative 2"
   ]
  },
  {
   "cell_type": "markdown",
   "id": "aa893177",
   "metadata": {
    "alternativeID": "df45d994-2b03-4bba-b211-1b8a00d2f3cc"
   },
   "source": []
  }
 ],
 "metadata": {
  "kernelspec": {
   "display_name": "Python 3 (ipykernel)",
   "language": "python",
   "name": "python3"
  },
  "language_info": {
   "codemirror_mode": {
    "name": "ipython",
    "version": 3
   },
   "file_extension": ".py",
   "mimetype": "text/x-python",
   "name": "python",
   "nbconvert_exporter": "python",
   "pygments_lexer": "ipython3",
   "version": "3.9.6"
  },
  "lit": {
   "alternatives": [
    {
     "alternativeChildren": [],
     "alternativeParent": "",
     "alternativeReasoning": {
      "alternativesTrigger": [],
      "decisionRationale": []
     },
     "alternativeSet": "cba8468a-b696-4a5a-98fd-c391f363e689",
     "alternativeStatus": "Choice",
     "alternativeTitle": "Untitled Alternative 1",
     "id": "810a7513-8e80-4fe6-b466-01a87f3c63ea"
    },
    {
     "alternativeChildren": [],
     "alternativeParent": "",
     "alternativeReasoning": {
      "alternativesTrigger": [],
      "decisionRationale": [
       "Prior work"
      ]
     },
     "alternativeSet": "cba8468a-b696-4a5a-98fd-c391f363e689",
     "alternativeStatus": "Option",
     "alternativeTitle": "Untitled Alternative 2",
     "id": "df45d994-2b03-4bba-b211-1b8a00d2f3cc"
    }
   ]
  }
 },
 "nbformat": 4,
 "nbformat_minor": 5
}
